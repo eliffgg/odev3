{
 "cells": [
  {
   "cell_type": "code",
   "execution_count": 5,
   "id": "b85c1294",
   "metadata": {
    "scrolled": true
   },
   "outputs": [
    {
     "name": "stdout",
     "output_type": "stream",
     "text": [
      "Yarıçap değeri giriniz: 3\n",
      "28.26\n"
     ]
    }
   ],
   "source": [
    "yaricap = int(input(\"Yarıçap değeri giriniz: \"))\n",
    "pi = 3.14\n",
    "def dairenin_alani(yaricap):\n",
    "    dairenin_alani = pi*yaricap**2\n",
    "    print(dairenin_alani)\n",
    "    \n",
    "dairenin_alani(yaricap)"
   ]
  },
  {
   "cell_type": "code",
   "execution_count": 42,
   "id": "fa59a6bd",
   "metadata": {},
   "outputs": [],
   "source": [
    "def faktoriyel(parametre):\n",
    "    factorial = 1\n",
    "    key = parametre\n",
    "    while key > 0:\n",
    "        factorial = factorial * key\n",
    "        key = key-1\n",
    "        return(\"{} sayısının faktöriyeli {} sayısıdır.\".format(str(parametre),str(factorial)))"
   ]
  },
  {
   "cell_type": "code",
   "execution_count": 43,
   "id": "46494b42",
   "metadata": {},
   "outputs": [
    {
     "data": {
      "text/plain": [
       "'4 sayısının faktöriyeli 4 sayısıdır.'"
      ]
     },
     "execution_count": 43,
     "metadata": {},
     "output_type": "execute_result"
    }
   ],
   "source": [
    "faktoriyel(4)   yapamadım :(("
   ]
  },
  {
   "cell_type": "code",
   "execution_count": 44,
   "id": "480bc2c5",
   "metadata": {},
   "outputs": [
    {
     "name": "stdout",
     "output_type": "stream",
     "text": [
      "21\n"
     ]
    }
   ],
   "source": [
    "yil = 2024\n",
    "def yas_hesap(dogum_yili):\n",
    "    yas = yil - dogum_yili\n",
    "    print(yas)\n",
    "    \n",
    "yas_hesap(2003)"
   ]
  },
  {
   "cell_type": "code",
   "execution_count": 70,
   "id": "14a49a92",
   "metadata": {},
   "outputs": [
    {
     "name": "stdout",
     "output_type": "stream",
     "text": [
      "Doğum yılı giriniz: 2003\n",
      "İsim giriniz: elif\n",
      "elif emekliliğine 44 yıl kaldı.\n"
     ]
    }
   ],
   "source": [
    "yil = 2024\n",
    "dogum_yili = int(input(\"Doğum yılı giriniz: \"))\n",
    "isim = input(\"İsim giriniz: \")\n",
    "def yas_hesap(dogum_yili):\n",
    "    yas  = yil - dogum_yili\n",
    "    return(yas)\n",
    "    \n",
    "yas_hesap(dogum_yili)\n",
    "\n",
    "if  yas_hesap(dogum_yili) >= 65:\n",
    "    print(\"Emekli oldunuz.\")\n",
    "else:\n",
    "    emeklilik_yasi = 65 - yas_hesap(dogum_yili)\n",
    "    print(\"{} emekliliğine {} yıl kaldı.\".format(isim,str(emeklilik_yasi)))"
   ]
  }
 ],
 "metadata": {
  "kernelspec": {
   "display_name": "Python 3 (ipykernel)",
   "language": "python",
   "name": "python3"
  },
  "language_info": {
   "codemirror_mode": {
    "name": "ipython",
    "version": 3
   },
   "file_extension": ".py",
   "mimetype": "text/x-python",
   "name": "python",
   "nbconvert_exporter": "python",
   "pygments_lexer": "ipython3",
   "version": "3.11.7"
  }
 },
 "nbformat": 4,
 "nbformat_minor": 5
}
